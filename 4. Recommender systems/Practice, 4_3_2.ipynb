{
 "cells": [
  {
   "cell_type": "markdown",
   "metadata": {},
   "source": [
    "# User profile"
   ]
  },
  {
   "cell_type": "code",
   "execution_count": 1,
   "metadata": {
    "collapsed": true
   },
   "outputs": [],
   "source": [
    "import pandas as pd\n",
    "import numpy as np\n",
    "import matplotlib.pyplot as plt\n",
    "%matplotlib inline"
   ]
  },
  {
   "cell_type": "code",
   "execution_count": 2,
   "metadata": {
    "collapsed": true
   },
   "outputs": [],
   "source": [
    "TMDB_API_KEY = #API KEY с https://developers.themoviedb.org/"
   ]
  },
  {
   "cell_type": "code",
   "execution_count": 3,
   "metadata": {
    "collapsed": true
   },
   "outputs": [],
   "source": [
    "import requests\n",
    "\n",
    "def get_movie_data(imdb_id):\n",
    "    real_imdb_id = 'tt{:>07}'.format(imdb_id)    \n",
    "    url = \"https://api.themoviedb.org/3/find/%s\" % real_imdb_id\n",
    "    params = {\n",
    "        \"api_key\": TMDB_API_KEY,\n",
    "        \"external_source\": \"imdb_id\"\n",
    "    }\n",
    "    resp = requests.get(url, params=params)\n",
    "    return resp.json()"
   ]
  },
  {
   "cell_type": "code",
   "execution_count": 4,
   "metadata": {},
   "outputs": [
    {
     "data": {
      "text/html": [
       "<div>\n",
       "<style>\n",
       "    .dataframe thead tr:only-child th {\n",
       "        text-align: right;\n",
       "    }\n",
       "\n",
       "    .dataframe thead th {\n",
       "        text-align: left;\n",
       "    }\n",
       "\n",
       "    .dataframe tbody tr th {\n",
       "        vertical-align: top;\n",
       "    }\n",
       "</style>\n",
       "<table border=\"1\" class=\"dataframe\">\n",
       "  <thead>\n",
       "    <tr style=\"text-align: right;\">\n",
       "      <th></th>\n",
       "      <th>imdbId</th>\n",
       "      <th>tmdbId</th>\n",
       "    </tr>\n",
       "    <tr>\n",
       "      <th>movieId</th>\n",
       "      <th></th>\n",
       "      <th></th>\n",
       "    </tr>\n",
       "  </thead>\n",
       "  <tbody>\n",
       "    <tr>\n",
       "      <th>131254</th>\n",
       "      <td>466713</td>\n",
       "      <td>4436.0</td>\n",
       "    </tr>\n",
       "    <tr>\n",
       "      <th>131256</th>\n",
       "      <td>277703</td>\n",
       "      <td>9274.0</td>\n",
       "    </tr>\n",
       "    <tr>\n",
       "      <th>131258</th>\n",
       "      <td>3485166</td>\n",
       "      <td>285213.0</td>\n",
       "    </tr>\n",
       "    <tr>\n",
       "      <th>131260</th>\n",
       "      <td>249110</td>\n",
       "      <td>32099.0</td>\n",
       "    </tr>\n",
       "    <tr>\n",
       "      <th>131262</th>\n",
       "      <td>1724965</td>\n",
       "      <td>286971.0</td>\n",
       "    </tr>\n",
       "  </tbody>\n",
       "</table>\n",
       "</div>"
      ],
      "text/plain": [
       "          imdbId    tmdbId\n",
       "movieId                   \n",
       "131254    466713    4436.0\n",
       "131256    277703    9274.0\n",
       "131258   3485166  285213.0\n",
       "131260    249110   32099.0\n",
       "131262   1724965  286971.0"
      ]
     },
     "execution_count": 4,
     "metadata": {},
     "output_type": "execute_result"
    }
   ],
   "source": [
    "links_df = pd.read_csv(\"/Users/tural/Datasets/ml-20m/links.csv\")\n",
    "links_df.set_index(\"movieId\", inplace=True)\n",
    "links_df.tail()"
   ]
  },
  {
   "cell_type": "markdown",
   "metadata": {},
   "source": [
    "## Создадим toy-dataset"
   ]
  },
  {
   "cell_type": "code",
   "execution_count": 5,
   "metadata": {},
   "outputs": [
    {
     "data": {
      "text/html": [
       "<div>\n",
       "<style>\n",
       "    .dataframe thead tr:only-child th {\n",
       "        text-align: right;\n",
       "    }\n",
       "\n",
       "    .dataframe thead th {\n",
       "        text-align: left;\n",
       "    }\n",
       "\n",
       "    .dataframe tbody tr th {\n",
       "        vertical-align: top;\n",
       "    }\n",
       "</style>\n",
       "<table border=\"1\" class=\"dataframe\">\n",
       "  <thead>\n",
       "    <tr style=\"text-align: right;\">\n",
       "      <th></th>\n",
       "      <th>userId</th>\n",
       "      <th>movieId</th>\n",
       "      <th>rating</th>\n",
       "      <th>timestamp</th>\n",
       "    </tr>\n",
       "  </thead>\n",
       "  <tbody>\n",
       "    <tr>\n",
       "      <th>0</th>\n",
       "      <td>1</td>\n",
       "      <td>2</td>\n",
       "      <td>3.5</td>\n",
       "      <td>1112486027</td>\n",
       "    </tr>\n",
       "    <tr>\n",
       "      <th>1</th>\n",
       "      <td>1</td>\n",
       "      <td>29</td>\n",
       "      <td>3.5</td>\n",
       "      <td>1112484676</td>\n",
       "    </tr>\n",
       "    <tr>\n",
       "      <th>2</th>\n",
       "      <td>1</td>\n",
       "      <td>32</td>\n",
       "      <td>3.5</td>\n",
       "      <td>1112484819</td>\n",
       "    </tr>\n",
       "    <tr>\n",
       "      <th>3</th>\n",
       "      <td>1</td>\n",
       "      <td>47</td>\n",
       "      <td>3.5</td>\n",
       "      <td>1112484727</td>\n",
       "    </tr>\n",
       "    <tr>\n",
       "      <th>4</th>\n",
       "      <td>1</td>\n",
       "      <td>50</td>\n",
       "      <td>3.5</td>\n",
       "      <td>1112484580</td>\n",
       "    </tr>\n",
       "  </tbody>\n",
       "</table>\n",
       "</div>"
      ],
      "text/plain": [
       "   userId  movieId  rating   timestamp\n",
       "0       1        2     3.5  1112486027\n",
       "1       1       29     3.5  1112484676\n",
       "2       1       32     3.5  1112484819\n",
       "3       1       47     3.5  1112484727\n",
       "4       1       50     3.5  1112484580"
      ]
     },
     "execution_count": 5,
     "metadata": {},
     "output_type": "execute_result"
    }
   ],
   "source": [
    "r_df = pd.read_csv(\"/Users/tural/Datasets/ml-20m/ratings.csv\")\n",
    "r_df.head()"
   ]
  },
  {
   "cell_type": "code",
   "execution_count": 6,
   "metadata": {},
   "outputs": [
    {
     "data": {
      "text/plain": [
       "array([ 56632,  89693,  18633, 104151, 117552, 119301,   8667,  50302,\n",
       "        85588,  97712])"
      ]
     },
     "execution_count": 6,
     "metadata": {},
     "output_type": "execute_result"
    }
   ],
   "source": [
    "# посчитаем количество рейтингов на пользователя\n",
    "r_per_user = r_df.userId.value_counts()\n",
    "# оставим только 10 пользователей с 50 рейтингами\n",
    "good_uids = np.random.choice(r_per_user[r_per_user == 50].index, size=10, replace=False)\n",
    "good_uids"
   ]
  },
  {
   "cell_type": "code",
   "execution_count": 7,
   "metadata": {},
   "outputs": [
    {
     "data": {
      "text/plain": [
       "(500, 4)"
      ]
     },
     "execution_count": 7,
     "metadata": {},
     "output_type": "execute_result"
    }
   ],
   "source": [
    "r_df = r_df[r_df.userId.isin(good_uids)]\n",
    "r_df.shape"
   ]
  },
  {
   "cell_type": "markdown",
   "metadata": {},
   "source": [
    "## Посчитаем TFIDF"
   ]
  },
  {
   "cell_type": "code",
   "execution_count": 8,
   "metadata": {
    "collapsed": true
   },
   "outputs": [],
   "source": [
    "import time"
   ]
  },
  {
   "cell_type": "code",
   "execution_count": 9,
   "metadata": {},
   "outputs": [
    {
     "name": "stdout",
     "output_type": "stream",
     "text": [
      "Обработано 0 из 332 фильмов\n",
      "Обработано 100 из 332 фильмов\n",
      "Обработано 200 из 332 фильмов\n",
      "Обработано 300 из 332 фильмов\n"
     ]
    }
   ],
   "source": [
    "movies = []\n",
    "for cnt, movie_id in enumerate(r_df.movieId.unique()):\n",
    "    if cnt % 100 == 0:\n",
    "        print(\"Обработано %s из %s фильмов\" % (cnt, r_df.movieId.unique().size))\n",
    "    \n",
    "    imdb_id = int(links_df.loc[movie_id].imdbId)\n",
    "    \n",
    "    data = get_movie_data(imdb_id)\n",
    "    if len(data['movie_results']) > 0:\n",
    "        data = data['movie_results'][0]\n",
    "    elif len(data['tv_results']) > 0:\n",
    "        data = data['tv_results'][0]\n",
    "    else:\n",
    "        continue\n",
    "        \n",
    "    movies.append({\n",
    "        \"movie_id\": movie_id, \n",
    "        \"overview\": data[\"overview\"],\n",
    "        \"title\": data[\"title\"]\n",
    "    })\n",
    "    \n",
    "    #40 requests every 10 second\n",
    "    time.sleep(10 / 40)"
   ]
  },
  {
   "cell_type": "code",
   "execution_count": 10,
   "metadata": {
    "collapsed": true
   },
   "outputs": [],
   "source": [
    "texts = [m[\"overview\"] for m in movies]"
   ]
  },
  {
   "cell_type": "code",
   "execution_count": 11,
   "metadata": {},
   "outputs": [
    {
     "data": {
      "text/plain": [
       "TfidfVectorizer(analyzer='word', binary=False, decode_error='strict',\n",
       "        dtype=<class 'numpy.int64'>, encoding='utf-8', input='content',\n",
       "        lowercase=True, max_df=1.0, max_features=None, min_df=1,\n",
       "        ngram_range=(1, 1), norm='l2', preprocessor=None, smooth_idf=True,\n",
       "        stop_words='english', strip_accents=None, sublinear_tf=False,\n",
       "        token_pattern='(?u)\\\\b\\\\w\\\\w+\\\\b', tokenizer=None, use_idf=True,\n",
       "        vocabulary=None)"
      ]
     },
     "execution_count": 11,
     "metadata": {},
     "output_type": "execute_result"
    }
   ],
   "source": [
    "from sklearn.feature_extraction.text import TfidfVectorizer\n",
    "tfidf = TfidfVectorizer(stop_words='english')\n",
    "tfidf.fit(texts)"
   ]
  },
  {
   "cell_type": "markdown",
   "metadata": {},
   "source": [
    "## Создадим профиль пользователя"
   ]
  },
  {
   "cell_type": "code",
   "execution_count": 12,
   "metadata": {},
   "outputs": [
    {
     "data": {
      "text/plain": [
       "56632"
      ]
     },
     "execution_count": 12,
     "metadata": {},
     "output_type": "execute_result"
    }
   ],
   "source": [
    "uid = np.random.choice(good_uids)\n",
    "uid"
   ]
  },
  {
   "cell_type": "code",
   "execution_count": 13,
   "metadata": {},
   "outputs": [
    {
     "data": {
      "text/html": [
       "<div>\n",
       "<style>\n",
       "    .dataframe thead tr:only-child th {\n",
       "        text-align: right;\n",
       "    }\n",
       "\n",
       "    .dataframe thead th {\n",
       "        text-align: left;\n",
       "    }\n",
       "\n",
       "    .dataframe tbody tr th {\n",
       "        vertical-align: top;\n",
       "    }\n",
       "</style>\n",
       "<table border=\"1\" class=\"dataframe\">\n",
       "  <thead>\n",
       "    <tr style=\"text-align: right;\">\n",
       "      <th></th>\n",
       "      <th>userId</th>\n",
       "      <th>movieId</th>\n",
       "      <th>rating</th>\n",
       "      <th>timestamp</th>\n",
       "    </tr>\n",
       "  </thead>\n",
       "  <tbody>\n",
       "    <tr>\n",
       "      <th>8215288</th>\n",
       "      <td>56632</td>\n",
       "      <td>11</td>\n",
       "      <td>4.0</td>\n",
       "      <td>839594819</td>\n",
       "    </tr>\n",
       "    <tr>\n",
       "      <th>8215289</th>\n",
       "      <td>56632</td>\n",
       "      <td>21</td>\n",
       "      <td>4.0</td>\n",
       "      <td>839594749</td>\n",
       "    </tr>\n",
       "    <tr>\n",
       "      <th>8215290</th>\n",
       "      <td>56632</td>\n",
       "      <td>25</td>\n",
       "      <td>5.0</td>\n",
       "      <td>839594931</td>\n",
       "    </tr>\n",
       "    <tr>\n",
       "      <th>8215291</th>\n",
       "      <td>56632</td>\n",
       "      <td>39</td>\n",
       "      <td>4.0</td>\n",
       "      <td>839594749</td>\n",
       "    </tr>\n",
       "    <tr>\n",
       "      <th>8215292</th>\n",
       "      <td>56632</td>\n",
       "      <td>47</td>\n",
       "      <td>4.0</td>\n",
       "      <td>839594718</td>\n",
       "    </tr>\n",
       "  </tbody>\n",
       "</table>\n",
       "</div>"
      ],
      "text/plain": [
       "         userId  movieId  rating  timestamp\n",
       "8215288   56632       11     4.0  839594819\n",
       "8215289   56632       21     4.0  839594749\n",
       "8215290   56632       25     5.0  839594931\n",
       "8215291   56632       39     4.0  839594749\n",
       "8215292   56632       47     4.0  839594718"
      ]
     },
     "execution_count": 13,
     "metadata": {},
     "output_type": "execute_result"
    }
   ],
   "source": [
    "# история рейтингов пользователя\n",
    "uid_df = r_df[r_df.userId == uid]\n",
    "uid_df.head()"
   ]
  },
  {
   "cell_type": "code",
   "execution_count": 14,
   "metadata": {},
   "outputs": [
    {
     "name": "stderr",
     "output_type": "stream",
     "text": [
      "/Users/tural/.virtualenvs/P3/lib/python3.6/site-packages/ipykernel_launcher.py:1: SettingWithCopyWarning: \n",
      "A value is trying to be set on a copy of a slice from a DataFrame.\n",
      "Try using .loc[row_indexer,col_indexer] = value instead\n",
      "\n",
      "See the caveats in the documentation: http://pandas.pydata.org/pandas-docs/stable/indexing.html#indexing-view-versus-copy\n",
      "  \"\"\"Entry point for launching an IPython kernel.\n"
     ]
    },
    {
     "data": {
      "text/html": [
       "<div>\n",
       "<style>\n",
       "    .dataframe thead tr:only-child th {\n",
       "        text-align: right;\n",
       "    }\n",
       "\n",
       "    .dataframe thead th {\n",
       "        text-align: left;\n",
       "    }\n",
       "\n",
       "    .dataframe tbody tr th {\n",
       "        vertical-align: top;\n",
       "    }\n",
       "</style>\n",
       "<table border=\"1\" class=\"dataframe\">\n",
       "  <thead>\n",
       "    <tr style=\"text-align: right;\">\n",
       "      <th></th>\n",
       "      <th>userId</th>\n",
       "      <th>movieId</th>\n",
       "      <th>rating</th>\n",
       "      <th>timestamp</th>\n",
       "      <th>liked</th>\n",
       "    </tr>\n",
       "  </thead>\n",
       "  <tbody>\n",
       "    <tr>\n",
       "      <th>8215288</th>\n",
       "      <td>56632</td>\n",
       "      <td>11</td>\n",
       "      <td>4.0</td>\n",
       "      <td>839594819</td>\n",
       "      <td>1</td>\n",
       "    </tr>\n",
       "    <tr>\n",
       "      <th>8215289</th>\n",
       "      <td>56632</td>\n",
       "      <td>21</td>\n",
       "      <td>4.0</td>\n",
       "      <td>839594749</td>\n",
       "      <td>1</td>\n",
       "    </tr>\n",
       "    <tr>\n",
       "      <th>8215290</th>\n",
       "      <td>56632</td>\n",
       "      <td>25</td>\n",
       "      <td>5.0</td>\n",
       "      <td>839594931</td>\n",
       "      <td>1</td>\n",
       "    </tr>\n",
       "    <tr>\n",
       "      <th>8215291</th>\n",
       "      <td>56632</td>\n",
       "      <td>39</td>\n",
       "      <td>4.0</td>\n",
       "      <td>839594749</td>\n",
       "      <td>1</td>\n",
       "    </tr>\n",
       "    <tr>\n",
       "      <th>8215292</th>\n",
       "      <td>56632</td>\n",
       "      <td>47</td>\n",
       "      <td>4.0</td>\n",
       "      <td>839594718</td>\n",
       "      <td>1</td>\n",
       "    </tr>\n",
       "  </tbody>\n",
       "</table>\n",
       "</div>"
      ],
      "text/plain": [
       "         userId  movieId  rating  timestamp  liked\n",
       "8215288   56632       11     4.0  839594819      1\n",
       "8215289   56632       21     4.0  839594749      1\n",
       "8215290   56632       25     5.0  839594931      1\n",
       "8215291   56632       39     4.0  839594749      1\n",
       "8215292   56632       47     4.0  839594718      1"
      ]
     },
     "execution_count": 14,
     "metadata": {},
     "output_type": "execute_result"
    }
   ],
   "source": [
    "uid_df[\"liked\"] = (uid_df.rating >= uid_df.rating.mean()).astype(int)\n",
    "uid_df.head()"
   ]
  },
  {
   "cell_type": "code",
   "execution_count": 15,
   "metadata": {},
   "outputs": [
    {
     "data": {
      "text/plain": [
       "1    34\n",
       "0    16\n",
       "Name: liked, dtype: int64"
      ]
     },
     "execution_count": 15,
     "metadata": {},
     "output_type": "execute_result"
    }
   ],
   "source": [
    "uid_df.liked.value_counts()"
   ]
  },
  {
   "cell_type": "code",
   "execution_count": 91,
   "metadata": {},
   "outputs": [
    {
     "name": "stdout",
     "output_type": "stream",
     "text": [
      "The American President : 1\n",
      "Get Shorty : 1\n",
      "Leaving Las Vegas : 1\n",
      "Clueless : 1\n",
      "Se7en : 1\n",
      "Braveheart : 1\n",
      "Apollo 13 : 1\n",
      "Congo : 0\n",
      "Crimson Tide : 1\n",
      "The Net : 0\n",
      "Nine Months : 0\n",
      "Waterworld : 0\n",
      "Disclosure : 1\n",
      "Dumb and Dumber : 1\n",
      "I.Q. : 1\n",
      "Interview with the Vampire : 0\n",
      "Junior : 0\n",
      "Legends of the Fall : 1\n",
      "Nell : 1\n",
      "Outbreak : 1\n",
      "Leon: The Professional : 0\n",
      "Quiz Show : 1\n",
      "The Specialist : 0\n",
      "The Santa Clause : 1\n",
      "The Shawshank Redemption : 1\n",
      "Tommy Boy : 0\n",
      "While You Were Sleeping : 0\n",
      "Ace Ventura: Pet Detective : 1\n",
      "Clear and Present Danger : 1\n",
      "The Client : 1\n",
      "Forrest Gump : 1\n",
      "Four Weddings and a Funeral : 1\n",
      "The Mask : 0\n",
      "Speed : 1\n",
      "True Lies : 0\n",
      "City Slickers II: The Legend of Curly's Gold : 0\n",
      "The Firm : 1\n",
      "The Fugitive : 1\n",
      "In the Line of Fire : 1\n",
      "Jurassic Park : 1\n",
      "Mrs. Doubtfire : 1\n",
      "Philadelphia : 1\n",
      "The Piano : 1\n",
      "Sleepless in Seattle : 1\n",
      "Home Alone : 0\n",
      "Ghost : 0\n",
      "Aladdin : 1\n",
      "The Silence of the Lambs : 1\n",
      "Beauty and the Beast : 1\n",
      "Pretty Woman : 0\n"
     ]
    }
   ],
   "source": [
    "X = []\n",
    "y = []\n",
    "\n",
    "for t in uid_df.itertuples():\n",
    "    for m in movies:\n",
    "        if m[\"movie_id\"] == t.movieId:\n",
    "            print(m[\"title\"], \":\", t.liked)\n",
    "            X.append(tfidf.transform([m[\"overview\"]]))\n",
    "            y.append(t.liked)\n",
    "            break"
   ]
  },
  {
   "cell_type": "code",
   "execution_count": 92,
   "metadata": {
    "collapsed": true
   },
   "outputs": [],
   "source": [
    "from scipy.sparse import vstack\n",
    "X = vstack(X, 'csr')\n",
    "y = np.array(y)"
   ]
  },
  {
   "cell_type": "markdown",
   "metadata": {},
   "source": [
    "## Feature selection"
   ]
  },
  {
   "cell_type": "code",
   "execution_count": 93,
   "metadata": {},
   "outputs": [],
   "source": [
    "from sklearn.feature_selection import chi2\n",
    "chi2s, pval = chi2(X, y)"
   ]
  },
  {
   "cell_type": "code",
   "execution_count": 94,
   "metadata": {},
   "outputs": [
    {
     "data": {
      "text/plain": [
       "array([ 0.07432642, -1.        , -1.        , ..., -1.        ,\n",
       "       -1.        , -1.        ])"
      ]
     },
     "execution_count": 94,
     "metadata": {},
     "output_type": "execute_result"
    }
   ],
   "source": [
    "chi2s[np.isnan(chi2s)] = -1\n",
    "chi2s"
   ]
  },
  {
   "cell_type": "code",
   "execution_count": 95,
   "metadata": {},
   "outputs": [
    {
     "data": {
      "text/plain": [
       "array([ 0.74547937,  0.77624087,  0.77624087,  0.77794576,  0.7853112 ,\n",
       "        0.79402942,  0.7952263 ,  0.79786416,  0.81634676,  0.83371667,\n",
       "        0.83689944,  0.86639572,  0.86639572,  0.89717871,  0.91694147,\n",
       "        0.92747911,  0.97327149,  1.04960351,  1.12168425,  1.13657971])"
      ]
     },
     "execution_count": 95,
     "metadata": {},
     "output_type": "execute_result"
    }
   ],
   "source": [
    "TOP_FTRS = 20\n",
    "best_ftrs = np.argsort(chi2s)[-TOP_FTRS:]\n",
    "chi2s[best_ftrs]"
   ]
  },
  {
   "cell_type": "code",
   "execution_count": 96,
   "metadata": {},
   "outputs": [],
   "source": [
    "X = X[:, best_ftrs]"
   ]
  },
  {
   "cell_type": "code",
   "execution_count": 97,
   "metadata": {},
   "outputs": [
    {
     "data": {
      "text/plain": [
       "(50, 20)"
      ]
     },
     "execution_count": 97,
     "metadata": {},
     "output_type": "execute_result"
    }
   ],
   "source": [
    "X.shape"
   ]
  },
  {
   "cell_type": "markdown",
   "metadata": {},
   "source": [
    "## Алгоритм Rocchio"
   ]
  },
  {
   "cell_type": "markdown",
   "metadata": {},
   "source": [
    "$$\n",
    "\\overrightarrow{Q_m} = \n",
    "a \\cdot \\overrightarrow{Q_0} + \n",
    "(b \\cdot \\frac{1}{|D_r|} \\cdot \\sum_{\\overrightarrow{D_j} \\in D_r}\\overrightarrow{D_j}) - \n",
    "(c \\cdot \\frac{1}{|D_{nr}|} \\cdot \\sum_{\\overrightarrow{D_k} \\in D_{nr}}\\overrightarrow{D_k})\n",
    "$$"
   ]
  },
  {
   "cell_type": "code",
   "execution_count": 98,
   "metadata": {
    "collapsed": true
   },
   "outputs": [],
   "source": [
    "a = 0\n",
    "b = c = 1"
   ]
  },
  {
   "cell_type": "code",
   "execution_count": 99,
   "metadata": {},
   "outputs": [],
   "source": [
    "r = np.where(y == 1)[0]\n",
    "nr = np.where(y == 0)[0]"
   ]
  },
  {
   "cell_type": "code",
   "execution_count": 100,
   "metadata": {},
   "outputs": [
    {
     "data": {
      "text/plain": [
       "matrix([[-0.02192586, -0.02283061, -0.02283061, -0.02288076, -0.02309739,\n",
       "         -0.02335381, -0.02338901, -0.02346659, -0.0240102 , -0.02452108,\n",
       "         -0.02461469, -0.02548223, -0.02548223, -0.02638761, -0.02696887,\n",
       "         -0.0272788 , -0.02862563, -0.03087069, -0.03299071, -0.03342881]])"
      ]
     },
     "execution_count": 100,
     "metadata": {},
     "output_type": "execute_result"
    }
   ],
   "source": [
    "user_profile = b * X[r].sum(axis=0) / r.size - c * X[nr].sum(axis=0) / nr.size\n",
    "user_profile"
   ]
  },
  {
   "cell_type": "code",
   "execution_count": 113,
   "metadata": {},
   "outputs": [
    {
     "data": {
      "text/plain": [
       "array([[ 0.        ,  1.        ],\n",
       "       [ 0.        ,  1.        ],\n",
       "       [ 0.        ,  1.        ],\n",
       "       [ 0.        ,  1.        ],\n",
       "       [ 0.        ,  1.        ],\n",
       "       [ 0.        ,  1.        ],\n",
       "       [ 0.        ,  1.        ],\n",
       "       [-0.18904583,  0.        ],\n",
       "       [ 0.        ,  1.        ],\n",
       "       [-0.38259862,  0.        ],\n",
       "       [-0.21142189,  0.        ],\n",
       "       [-0.19914676,  0.        ],\n",
       "       [ 0.        ,  1.        ],\n",
       "       [ 0.        ,  1.        ],\n",
       "       [ 0.        ,  1.        ],\n",
       "       [-0.23519907,  0.        ],\n",
       "       [-0.20166113,  0.        ],\n",
       "       [ 0.        ,  1.        ],\n",
       "       [ 0.        ,  1.        ],\n",
       "       [ 0.        ,  1.        ],\n",
       "       [-0.20233006,  0.        ],\n",
       "       [ 0.        ,  1.        ],\n",
       "       [-0.28822481,  0.        ],\n",
       "       [ 0.        ,  1.        ],\n",
       "       [ 0.        ,  1.        ],\n",
       "       [-0.3943304 ,  0.        ],\n",
       "       [-0.2681997 ,  0.        ],\n",
       "       [ 0.        ,  1.        ],\n",
       "       [ 0.        ,  1.        ],\n",
       "       [ 0.        ,  1.        ],\n",
       "       [ 0.        ,  1.        ],\n",
       "       [ 0.        ,  1.        ],\n",
       "       [-0.31071539,  0.        ],\n",
       "       [ 0.        ,  1.        ],\n",
       "       [-0.20135761,  0.        ],\n",
       "       [-0.35649621,  0.        ],\n",
       "       [ 0.        ,  1.        ],\n",
       "       [ 0.        ,  1.        ],\n",
       "       [ 0.        ,  1.        ],\n",
       "       [ 0.        ,  1.        ],\n",
       "       [ 0.        ,  1.        ],\n",
       "       [ 0.        ,  1.        ],\n",
       "       [ 0.        ,  1.        ],\n",
       "       [ 0.        ,  1.        ],\n",
       "       [-0.37467435,  0.        ],\n",
       "       [-0.38485842,  0.        ],\n",
       "       [ 0.        ,  1.        ],\n",
       "       [ 0.        ,  1.        ],\n",
       "       [ 0.        ,  1.        ],\n",
       "       [-0.33989698,  0.        ]])"
      ]
     },
     "execution_count": 113,
     "metadata": {},
     "output_type": "execute_result"
    }
   ],
   "source": [
    "from sklearn.preprocessing import normalize\n",
    "np.c_[normalize(X).dot(normalize(user_profile).T), y]"
   ]
  },
  {
   "cell_type": "code",
   "execution_count": null,
   "metadata": {
    "collapsed": true
   },
   "outputs": [],
   "source": []
  }
 ],
 "metadata": {
  "kernelspec": {
   "display_name": "Python 3",
   "language": "python",
   "name": "python3"
  },
  "language_info": {
   "codemirror_mode": {
    "name": "ipython",
    "version": 3
   },
   "file_extension": ".py",
   "mimetype": "text/x-python",
   "name": "python",
   "nbconvert_exporter": "python",
   "pygments_lexer": "ipython3",
   "version": "3.6.0"
  }
 },
 "nbformat": 4,
 "nbformat_minor": 2
}
