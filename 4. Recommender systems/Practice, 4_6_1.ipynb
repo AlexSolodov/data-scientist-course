{
 "cells": [
  {
   "cell_type": "markdown",
   "metadata": {},
   "source": [
    "# CBRS"
   ]
  },
  {
   "cell_type": "code",
   "execution_count": 1,
   "metadata": {
    "collapsed": true
   },
   "outputs": [],
   "source": [
    "import pandas as pd\n",
    "import numpy as np\n",
    "\n",
    "from scipy.sparse import csr_matrix\n",
    "%matplotlib inline\n",
    "import matplotlib.pyplot as plt"
   ]
  },
  {
   "cell_type": "code",
   "execution_count": 2,
   "metadata": {
    "collapsed": true
   },
   "outputs": [],
   "source": [
    "JSON_DATA_PATH = \"/Users/tural/Downloads/reviews_Digital_Music_5.json\"\n",
    "N = 10"
   ]
  },
  {
   "cell_type": "code",
   "execution_count": 3,
   "metadata": {
    "collapsed": true
   },
   "outputs": [],
   "source": [
    "import json\n",
    "\n",
    "def iter_json_data(path):\n",
    "    with open(path) as f:\n",
    "        for line in f:\n",
    "            data = json.loads(line)\n",
    "            yield data\n",
    "            \n",
    "def get_data_frame():\n",
    "    uid_to_id = {}\n",
    "    iid_to_id = {}\n",
    "    \n",
    "    cols = [\"uid\", \"iid\", \"review\", \"rating\", \"dt\"]\n",
    "    rows = []\n",
    "    for d in iter_json_data(JSON_DATA_PATH):\n",
    "        uid = uid_to_id.setdefault(d[\"reviewerID\"], len(uid_to_id))\n",
    "        iid = iid_to_id.setdefault(d[\"asin\"], len(iid_to_id))\n",
    "        review = d[\"reviewText\"]\n",
    "        rating = float(d[\"overall\"])\n",
    "        dt = int(d[\"unixReviewTime\"])\n",
    "        rows.append((uid, iid, review, rating, dt))\n",
    "        \n",
    "    return pd.DataFrame(rows, columns=cols)"
   ]
  },
  {
   "cell_type": "code",
   "execution_count": 4,
   "metadata": {},
   "outputs": [
    {
     "data": {
      "text/html": [
       "<div>\n",
       "<style>\n",
       "    .dataframe thead tr:only-child th {\n",
       "        text-align: right;\n",
       "    }\n",
       "\n",
       "    .dataframe thead th {\n",
       "        text-align: left;\n",
       "    }\n",
       "\n",
       "    .dataframe tbody tr th {\n",
       "        vertical-align: top;\n",
       "    }\n",
       "</style>\n",
       "<table border=\"1\" class=\"dataframe\">\n",
       "  <thead>\n",
       "    <tr style=\"text-align: right;\">\n",
       "      <th></th>\n",
       "      <th>uid</th>\n",
       "      <th>iid</th>\n",
       "      <th>review</th>\n",
       "      <th>rating</th>\n",
       "      <th>dt</th>\n",
       "    </tr>\n",
       "  </thead>\n",
       "  <tbody>\n",
       "    <tr>\n",
       "      <th>0</th>\n",
       "      <td>0</td>\n",
       "      <td>0</td>\n",
       "      <td>It's hard to believe \"Memory of Trees\" came ou...</td>\n",
       "      <td>5.0</td>\n",
       "      <td>1158019200</td>\n",
       "    </tr>\n",
       "    <tr>\n",
       "      <th>1</th>\n",
       "      <td>1</td>\n",
       "      <td>0</td>\n",
       "      <td>A clasically-styled and introverted album, Mem...</td>\n",
       "      <td>5.0</td>\n",
       "      <td>991526400</td>\n",
       "    </tr>\n",
       "    <tr>\n",
       "      <th>2</th>\n",
       "      <td>2</td>\n",
       "      <td>0</td>\n",
       "      <td>I never thought Enya would reach the sublime h...</td>\n",
       "      <td>5.0</td>\n",
       "      <td>1058140800</td>\n",
       "    </tr>\n",
       "    <tr>\n",
       "      <th>3</th>\n",
       "      <td>3</td>\n",
       "      <td>0</td>\n",
       "      <td>This is the third review of an irish album I w...</td>\n",
       "      <td>5.0</td>\n",
       "      <td>957312000</td>\n",
       "    </tr>\n",
       "    <tr>\n",
       "      <th>4</th>\n",
       "      <td>4</td>\n",
       "      <td>0</td>\n",
       "      <td>Enya, despite being a successful recording art...</td>\n",
       "      <td>4.0</td>\n",
       "      <td>1200528000</td>\n",
       "    </tr>\n",
       "  </tbody>\n",
       "</table>\n",
       "</div>"
      ],
      "text/plain": [
       "   uid  iid                                             review  rating  \\\n",
       "0    0    0  It's hard to believe \"Memory of Trees\" came ou...     5.0   \n",
       "1    1    0  A clasically-styled and introverted album, Mem...     5.0   \n",
       "2    2    0  I never thought Enya would reach the sublime h...     5.0   \n",
       "3    3    0  This is the third review of an irish album I w...     5.0   \n",
       "4    4    0  Enya, despite being a successful recording art...     4.0   \n",
       "\n",
       "           dt  \n",
       "0  1158019200  \n",
       "1   991526400  \n",
       "2  1058140800  \n",
       "3   957312000  \n",
       "4  1200528000  "
      ]
     },
     "execution_count": 4,
     "metadata": {},
     "output_type": "execute_result"
    }
   ],
   "source": [
    "df = get_data_frame()\n",
    "df.head()"
   ]
  },
  {
   "cell_type": "code",
   "execution_count": 5,
   "metadata": {},
   "outputs": [
    {
     "data": {
      "text/plain": [
       "<matplotlib.axes._subplots.AxesSubplot at 0x11136e780>"
      ]
     },
     "execution_count": 5,
     "metadata": {},
     "output_type": "execute_result"
    },
    {
     "data": {
      "image/png": "[encoded data removed]",
      "text/plain": [
       "<matplotlib.figure.Figure at 0x111363630>"
      ]
     },
     "metadata": {},
     "output_type": "display_data"
    }
   ],
   "source": [
    "plt.title(\"Распределение рейтингов по отзывам\")\n",
    "df.rating.hist()"
   ]
  },
  {
   "cell_type": "code",
   "execution_count": 9,
   "metadata": {
    "collapsed": true
   },
   "outputs": [],
   "source": [
    "from sklearn.feature_extraction.text import TfidfVectorizer\n",
    "review_ftr_m = TfidfVectorizer(stop_words='english').fit_transform(df.review)"
   ]
  },
  {
   "cell_type": "code",
   "execution_count": 10,
   "metadata": {
    "collapsed": true
   },
   "outputs": [],
   "source": [
    "# сразу умножаем на рейтинги\n",
    "review_ftr_m = review_ftr_m.multiply(df.rating.values.reshape(-1, 1)).tocsr()"
   ]
  },
  {
   "cell_type": "code",
   "execution_count": 13,
   "metadata": {
    "collapsed": true
   },
   "outputs": [],
   "source": [
    "from sklearn.preprocessing import normalize\n",
    "from scipy.sparse import vstack\n",
    "\n",
    "def _prepare_iid_data(df, review_ftr_m): \n",
    "    iid_to_row = {}\n",
    "    rows = []\n",
    "    # не самый оптимальный group by       \n",
    "    for row_id, iid in enumerate(df.iid.unique()):\n",
    "        iid_to_row[iid] = row_id\n",
    "        iid_ftr_m = csr_matrix(\n",
    "            review_ftr_m[np.where(df.iid == iid)[0]].sum(axis=0)\n",
    "        )\n",
    "        rows.append(iid_ftr_m)\n",
    "    iid_ftr_m = normalize(vstack(rows, format='csr'))\n",
    "    return iid_to_row, iid_ftr_m"
   ]
  },
  {
   "cell_type": "code",
   "execution_count": 15,
   "metadata": {},
   "outputs": [],
   "source": [
    "iid_to_row, iid_ftr_m = _prepare_iid_data(df, review_ftr_m)"
   ]
  },
  {
   "cell_type": "code",
   "execution_count": 16,
   "metadata": {
    "collapsed": true
   },
   "outputs": [],
   "source": [
    "def _prepare_uid_data(df, iid_to_row, iid_ftr_m):  \n",
    "        uid_to_row = {}\n",
    "        rows = []\n",
    "        \n",
    "        # gr_df - кусок df с данными одного пользователя \n",
    "        for gr_id, gr_df in df.groupby(\"uid\"):\n",
    "            uid = gr_df.uid.values[0]\n",
    "            \n",
    "            # поиск объектов и пользовательских рейтингов для них\n",
    "            iid_rows = []\n",
    "            ratings = []\n",
    "            for iid, rating in zip(gr_df.iid.values, gr_df.rating.values):\n",
    "                if iid in iid_to_row:\n",
    "                    iid_rows.append(iid_to_row[iid])\n",
    "                    ratings.append(rating)\n",
    "                  \n",
    "            # создание профиля пользователя\n",
    "            if iid_rows:\n",
    "                ratings = np.array(ratings).reshape(-1, 1)\n",
    "                uid_ftr_m = csr_matrix(\n",
    "                    iid_ftr_m[iid_rows].multiply(ratings).sum(axis=0)\n",
    "                ) \n",
    "                uid_to_row[uid] = len(uid_to_row)\n",
    "                rows.append(uid_ftr_m)\n",
    "            \n",
    "        uid_ftr_m = normalize(vstack(rows, format='csr'))\n",
    "        return uid_to_row, uid_ftr_m"
   ]
  },
  {
   "cell_type": "code",
   "execution_count": 17,
   "metadata": {
    "collapsed": true
   },
   "outputs": [],
   "source": [
    "uid_to_row, uid_ftr_m = _prepare_uid_data(df, iid_to_row, iid_ftr_m)"
   ]
  },
  {
   "cell_type": "code",
   "execution_count": 21,
   "metadata": {
    "collapsed": true
   },
   "outputs": [],
   "source": [
    "# немного упрощаем себе жизнь (для подсчета рекомендаций с использованием косинусной меры)\n",
    "ftr_iid_m = iid_ftr_m.T.tocsr()\n",
    "row_to_iid = {row_id: iid for iid, row_id in iid_to_row.items()}"
   ]
  },
  {
   "cell_type": "code",
   "execution_count": 22,
   "metadata": {
    "collapsed": true
   },
   "outputs": [],
   "source": [
    "def get_recs(uid, top=N):\n",
    "    recs = {}\n",
    "    if uid in uid_to_row:\n",
    "        u_row_id = uid_to_row[uid]\n",
    "        u_row = uid_ftr_m[u_row_id]\n",
    "\n",
    "        # самописный cosine similarity\n",
    "        u_recs = u_row.dot(ftr_iid_m)\n",
    "\n",
    "        for arg_id in np.argsort(u_recs.data)[-top:]:\n",
    "            row_id = u_recs.indices[arg_id]\n",
    "            score = u_recs.data[arg_id]\n",
    "            recs[row_to_iid[row_id]] = score\n",
    "    return recs"
   ]
  },
  {
   "cell_type": "code",
   "execution_count": 23,
   "metadata": {},
   "outputs": [
    {
     "data": {
      "text/plain": [
       "{100: 0.56170351921254102,\n",
       " 660: 0.61231096193093804,\n",
       " 667: 0.65325302417319553,\n",
       " 825: 0.60523739638417229,\n",
       " 1118: 0.58343909272142236,\n",
       " 1278: 0.56440352770364166,\n",
       " 1279: 0.54976944847729181,\n",
       " 1281: 0.61996582908664999,\n",
       " 1714: 0.56878258215043809,\n",
       " 2246: 0.54570034527534084}"
      ]
     },
     "execution_count": 23,
     "metadata": {},
     "output_type": "execute_result"
    }
   ],
   "source": [
    "get_recs(1)"
   ]
  },
  {
   "cell_type": "code",
   "execution_count": null,
   "metadata": {
    "collapsed": true
   },
   "outputs": [],
   "source": []
  }
 ],
 "metadata": {
  "kernelspec": {
   "display_name": "Python 3",
   "language": "python",
   "name": "python3"
  },
  "language_info": {
   "codemirror_mode": {
    "name": "ipython",
    "version": 3
   },
   "file_extension": ".py",
   "mimetype": "text/x-python",
   "name": "python",
   "nbconvert_exporter": "python",
   "pygments_lexer": "ipython3",
   "version": "3.6.0"
  }
 },
 "nbformat": 4,
 "nbformat_minor": 2
}
