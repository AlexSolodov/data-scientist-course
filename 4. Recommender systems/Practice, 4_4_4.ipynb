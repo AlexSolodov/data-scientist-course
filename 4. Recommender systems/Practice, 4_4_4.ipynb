{
 "cells": [
  {
   "cell_type": "code",
   "execution_count": 2,
   "metadata": {
    "collapsed": true
   },
   "outputs": [],
   "source": [
    "from scipy.sparse import rand, csr_matrix\n",
    "from sklearn.preprocessing import normalize, binarize\n",
    "import numpy as np"
   ]
  },
  {
   "cell_type": "markdown",
   "metadata": {},
   "source": [
    "# Implicit feedback Item-based CF"
   ]
  },
  {
   "cell_type": "code",
   "execution_count": 3,
   "metadata": {
    "collapsed": true
   },
   "outputs": [],
   "source": [
    "# матрица процентов видео просмотров\n",
    "ui_m = rand(10000, 1000, 0.01, 'csr')"
   ]
  },
  {
   "cell_type": "code",
   "execution_count": 4,
   "metadata": {
    "collapsed": true
   },
   "outputs": [],
   "source": [
    "# нормализуем по пользователям\n",
    "n_ui_m = normalize(ui_m)"
   ]
  },
  {
   "cell_type": "code",
   "execution_count": 6,
   "metadata": {
    "collapsed": true
   },
   "outputs": [],
   "source": [
    "# находим матрицу схожести item-item\n",
    "from sklearn.metrics.pairwise import cosine_similarity\n",
    "ii_sim_m = cosine_similarity(n_ui_m.T, dense_output=False).tocsr()"
   ]
  },
  {
   "cell_type": "code",
   "execution_count": 7,
   "metadata": {
    "collapsed": true
   },
   "outputs": [],
   "source": [
    "# вспомогательные функции, которые могут пригодиться при построении Item-based CF\n",
    "def nullify_main_diagonal(m):\n",
    "    positions = range(m.shape[0])\n",
    "    eye = csr_matrix((np.ones(len(positions)), (positions, positions)), m.shape)\n",
    "    return m - m.multiply(eye)\n",
    "\n",
    "\n",
    "def get_topk(matrix, top, axis=1):\n",
    "    \"\"\"Converts source matrix to Top-K matrix\n",
    "    where each row or column contains only top K values\n",
    "\n",
    "    :param matrix: source matrix\n",
    "    :param top: number of top items to be stored\n",
    "    :param axis: 0 - top by column, 1 - top by row\n",
    "    :return:\n",
    "    \"\"\"\n",
    "    rows = []\n",
    "    cols = []\n",
    "    data = []\n",
    "\n",
    "    if axis == 0:\n",
    "        matrix = matrix.T.tocsr()\n",
    "\n",
    "    for row_id, row in enumerate(matrix):\n",
    "        if top is not None and row.nnz > top:\n",
    "            top_args = np.argsort(row.data)[-top:]\n",
    "\n",
    "            rows += [row_id] * top\n",
    "            cols += row.indices[top_args].tolist()\n",
    "            data += row.data[top_args].tolist()\n",
    "        elif row.nnz > 0:\n",
    "            rows += [row_id] * row.nnz\n",
    "            cols += row.indices.tolist()\n",
    "            data += row.data.tolist()\n",
    "\n",
    "    topk_m = csr_matrix((data, (rows, cols)), (matrix.shape[0], matrix.shape[1]))\n",
    "\n",
    "    if axis == 0:\n",
    "        topk_m = topk_m.T.tocsr()\n",
    "\n",
    "    return topk_m"
   ]
  },
  {
   "cell_type": "code",
   "execution_count": 8,
   "metadata": {
    "collapsed": true
   },
   "outputs": [],
   "source": [
    "# храним только top-30\n",
    "ii_sim_m = nullify_main_diagonal(ii_sim_m)\n",
    "ii_sim_m = get_topk(ii_sim_m, top=30)"
   ]
  },
  {
   "cell_type": "code",
   "execution_count": 11,
   "metadata": {
    "collapsed": true
   },
   "outputs": [],
   "source": [
    "# нормализуем схожести\n",
    "ii_sim_m = normalize(ii_sim_m)"
   ]
  },
  {
   "cell_type": "code",
   "execution_count": 15,
   "metadata": {},
   "outputs": [
    {
     "data": {
      "text/plain": [
       "<1x1000 sparse matrix of type '<class 'numpy.float64'>'\n",
       "\twith 11 stored elements in Compressed Sparse Row format>"
      ]
     },
     "execution_count": 15,
     "metadata": {},
     "output_type": "execute_result"
    }
   ],
   "source": [
    "# находим рекомендации для пользователя uid\n",
    "uid = 0\n",
    "ui_m[uid]"
   ]
  },
  {
   "cell_type": "code",
   "execution_count": 19,
   "metadata": {},
   "outputs": [
    {
     "data": {
      "text/plain": [
       "<1x1000 sparse matrix of type '<class 'numpy.float64'>'\n",
       "\twith 281 stored elements in Compressed Sparse Row format>"
      ]
     },
     "execution_count": 19,
     "metadata": {},
     "output_type": "execute_result"
    }
   ],
   "source": [
    "recs = n_ui_m[uid].dot(ii_sim_m.T)  # надо повернуть правильным краем\n",
    "recs"
   ]
  },
  {
   "cell_type": "code",
   "execution_count": 20,
   "metadata": {},
   "outputs": [
    {
     "name": "stdout",
     "output_type": "stream",
     "text": [
      "525 0.207314854948\n",
      "359 0.204668280459\n",
      "683 0.190652357752\n",
      "809 0.17794113342\n",
      "561 0.151127541368\n"
     ]
    }
   ],
   "source": [
    "# напечатаем top-5 рекомедаций\n",
    "TOP=5\n",
    "\n",
    "for arg_id in np.argsort(recs.data)[-TOP:][::-1]:\n",
    "    iid = recs.indices[arg_id]\n",
    "    score = recs.data[arg_id]\n",
    "    print(iid, score)"
   ]
  },
  {
   "cell_type": "code",
   "execution_count": 23,
   "metadata": {},
   "outputs": [
    {
     "name": "stdout",
     "output_type": "stream",
     "text": [
      "Мы рекомендовали вам фильм 525, потому что вы смотрели фильм 288\n"
     ]
    }
   ],
   "source": [
    "# объясним рекомендацию пользователю\n",
    "components = n_ui_m[uid].multiply(ii_sim_m[525])\n",
    "max_comp_arg_id = np.argmax(components.data)\n",
    "max_comp_id = components.indices[max_comp_arg_id]\n",
    "print(\"Мы рекомендовали вам фильм 525, потому что вы смотрели фильм %s\" % max_comp_id)"
   ]
  },
  {
   "cell_type": "code",
   "execution_count": 24,
   "metadata": {},
   "outputs": [
    {
     "data": {
      "text/plain": [
       "0.66164321686679062"
      ]
     },
     "execution_count": 24,
     "metadata": {},
     "output_type": "execute_result"
    }
   ],
   "source": [
    "ui_m[uid, 288]"
   ]
  },
  {
   "cell_type": "code",
   "execution_count": 25,
   "metadata": {},
   "outputs": [
    {
     "data": {
      "text/plain": [
       "array([ 0.5680924 ,  0.26633753,  0.29952498,  0.15172373,  0.14634499,\n",
       "        0.66164322,  0.54244971,  0.36841495,  0.794185  ,  0.75723378,\n",
       "        0.78673385])"
      ]
     },
     "execution_count": 25,
     "metadata": {},
     "output_type": "execute_result"
    }
   ],
   "source": [
    "ui_m[uid].data"
   ]
  },
  {
   "cell_type": "code",
   "execution_count": 28,
   "metadata": {},
   "outputs": [
    {
     "data": {
      "text/plain": [
       "array([ 0.36841495,  0.54244971,  0.66164322,  0.14634499,  0.15172373])"
      ]
     },
     "execution_count": 28,
     "metadata": {},
     "output_type": "execute_result"
    }
   ],
   "source": [
    "ui_m[uid, components.indices].data"
   ]
  },
  {
   "cell_type": "code",
   "execution_count": null,
   "metadata": {
    "collapsed": true
   },
   "outputs": [],
   "source": []
  }
 ],
 "metadata": {
  "kernelspec": {
   "display_name": "Python 3",
   "language": "python",
   "name": "python3"
  },
  "language_info": {
   "codemirror_mode": {
    "name": "ipython",
    "version": 3
   },
   "file_extension": ".py",
   "mimetype": "text/x-python",
   "name": "python",
   "nbconvert_exporter": "python",
   "pygments_lexer": "ipython3",
   "version": "3.6.0"
  }
 },
 "nbformat": 4,
 "nbformat_minor": 2
}
