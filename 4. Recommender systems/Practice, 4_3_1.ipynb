{
 "cells": [
  {
   "cell_type": "markdown",
   "metadata": {},
   "source": [
    "# Item profile"
   ]
  },
  {
   "cell_type": "code",
   "execution_count": 120,
   "metadata": {
    "collapsed": true
   },
   "outputs": [],
   "source": [
    "TMDB_API_KEY = #API KEY с https://developers.themoviedb.org/"
   ]
  },
  {
   "cell_type": "code",
   "execution_count": 55,
   "metadata": {
    "collapsed": true
   },
   "outputs": [],
   "source": [
    "import requests\n",
    "\n",
    "def get_movie_data(imdb_id):\n",
    "    real_imdb_id = 'tt{:>07}'.format(imdb_id)    \n",
    "    url = \"https://api.themoviedb.org/3/find/%s\" % real_imdb_id\n",
    "    params = {\n",
    "        \"api_key\": TMDB_API_KEY,\n",
    "        \"external_source\": \"imdb_id\"\n",
    "    }\n",
    "    resp = requests.get(url, params=params)\n",
    "    return resp.json()"
   ]
  },
  {
   "cell_type": "code",
   "execution_count": 56,
   "metadata": {
    "collapsed": true
   },
   "outputs": [],
   "source": [
    "import pandas as pd\n",
    "import numpy as np\n",
    "import matplotlib.pyplot as plt\n",
    "%matplotlib inline"
   ]
  },
  {
   "cell_type": "code",
   "execution_count": 70,
   "metadata": {},
   "outputs": [
    {
     "data": {
      "text/html": [
       "<div>\n",
       "<style>\n",
       "    .dataframe thead tr:only-child th {\n",
       "        text-align: right;\n",
       "    }\n",
       "\n",
       "    .dataframe thead th {\n",
       "        text-align: left;\n",
       "    }\n",
       "\n",
       "    .dataframe tbody tr th {\n",
       "        vertical-align: top;\n",
       "    }\n",
       "</style>\n",
       "<table border=\"1\" class=\"dataframe\">\n",
       "  <thead>\n",
       "    <tr style=\"text-align: right;\">\n",
       "      <th></th>\n",
       "      <th>imdbId</th>\n",
       "      <th>tmdbId</th>\n",
       "    </tr>\n",
       "    <tr>\n",
       "      <th>movieId</th>\n",
       "      <th></th>\n",
       "      <th></th>\n",
       "    </tr>\n",
       "  </thead>\n",
       "  <tbody>\n",
       "    <tr>\n",
       "      <th>131254</th>\n",
       "      <td>466713</td>\n",
       "      <td>4436.0</td>\n",
       "    </tr>\n",
       "    <tr>\n",
       "      <th>131256</th>\n",
       "      <td>277703</td>\n",
       "      <td>9274.0</td>\n",
       "    </tr>\n",
       "    <tr>\n",
       "      <th>131258</th>\n",
       "      <td>3485166</td>\n",
       "      <td>285213.0</td>\n",
       "    </tr>\n",
       "    <tr>\n",
       "      <th>131260</th>\n",
       "      <td>249110</td>\n",
       "      <td>32099.0</td>\n",
       "    </tr>\n",
       "    <tr>\n",
       "      <th>131262</th>\n",
       "      <td>1724965</td>\n",
       "      <td>286971.0</td>\n",
       "    </tr>\n",
       "  </tbody>\n",
       "</table>\n",
       "</div>"
      ],
      "text/plain": [
       "          imdbId    tmdbId\n",
       "movieId                   \n",
       "131254    466713    4436.0\n",
       "131256    277703    9274.0\n",
       "131258   3485166  285213.0\n",
       "131260    249110   32099.0\n",
       "131262   1724965  286971.0"
      ]
     },
     "execution_count": 70,
     "metadata": {},
     "output_type": "execute_result"
    }
   ],
   "source": [
    "links_df = pd.read_csv(\"/Users/tural/Datasets/ml-20m/links.csv\")\n",
    "links_df.set_index(\"movieId\", inplace=True)\n",
    "links_df.tail()"
   ]
  },
  {
   "cell_type": "code",
   "execution_count": 60,
   "metadata": {},
   "outputs": [
    {
     "data": {
      "text/plain": [
       "{'movie_results': [{'adult': False,\n",
       "   'backdrop_path': '/4fdm7zgQQIgUwtgEcHJsPTRVHQw.jpg',\n",
       "   'genre_ids': [35],\n",
       "   'id': 4436,\n",
       "   'original_language': 'de',\n",
       "   'original_title': \"Kein Bund für's Leben\",\n",
       "   'overview': 'The movie deals with a guy who gets to join the German Bundeswehr involuntarily because a colleague loses his denial papers in order to get the chance to get down on his girlfriend. When entering the Bundeswehr he acts like a giant idiot and of course gets in one room with some of the biggest losers around. The loser turns out to be a hero and leads his loser-colleagues to win a contest with the local US army squad.',\n",
       "   'popularity': 1.098836,\n",
       "   'poster_path': '/2gBDKYK0teVaOhzo6zhTnsMpUVM.jpg',\n",
       "   'release_date': '2007-08-30',\n",
       "   'title': \"Kein Bund für's Leben\",\n",
       "   'video': False,\n",
       "   'vote_average': 5.4,\n",
       "   'vote_count': 10}],\n",
       " 'person_results': [],\n",
       " 'tv_episode_results': [],\n",
       " 'tv_results': [],\n",
       " 'tv_season_results': []}"
      ]
     },
     "execution_count": 60,
     "metadata": {},
     "output_type": "execute_result"
    }
   ],
   "source": [
    "get_movie_data(466713)"
   ]
  },
  {
   "cell_type": "markdown",
   "metadata": {},
   "source": [
    "## Создадим toy-dataset"
   ]
  },
  {
   "cell_type": "code",
   "execution_count": 77,
   "metadata": {},
   "outputs": [
    {
     "data": {
      "text/html": [
       "<div>\n",
       "<style>\n",
       "    .dataframe thead tr:only-child th {\n",
       "        text-align: right;\n",
       "    }\n",
       "\n",
       "    .dataframe thead th {\n",
       "        text-align: left;\n",
       "    }\n",
       "\n",
       "    .dataframe tbody tr th {\n",
       "        vertical-align: top;\n",
       "    }\n",
       "</style>\n",
       "<table border=\"1\" class=\"dataframe\">\n",
       "  <thead>\n",
       "    <tr style=\"text-align: right;\">\n",
       "      <th></th>\n",
       "      <th>userId</th>\n",
       "      <th>movieId</th>\n",
       "      <th>rating</th>\n",
       "      <th>timestamp</th>\n",
       "    </tr>\n",
       "  </thead>\n",
       "  <tbody>\n",
       "    <tr>\n",
       "      <th>0</th>\n",
       "      <td>1</td>\n",
       "      <td>2</td>\n",
       "      <td>3.5</td>\n",
       "      <td>1112486027</td>\n",
       "    </tr>\n",
       "    <tr>\n",
       "      <th>1</th>\n",
       "      <td>1</td>\n",
       "      <td>29</td>\n",
       "      <td>3.5</td>\n",
       "      <td>1112484676</td>\n",
       "    </tr>\n",
       "    <tr>\n",
       "      <th>2</th>\n",
       "      <td>1</td>\n",
       "      <td>32</td>\n",
       "      <td>3.5</td>\n",
       "      <td>1112484819</td>\n",
       "    </tr>\n",
       "    <tr>\n",
       "      <th>3</th>\n",
       "      <td>1</td>\n",
       "      <td>47</td>\n",
       "      <td>3.5</td>\n",
       "      <td>1112484727</td>\n",
       "    </tr>\n",
       "    <tr>\n",
       "      <th>4</th>\n",
       "      <td>1</td>\n",
       "      <td>50</td>\n",
       "      <td>3.5</td>\n",
       "      <td>1112484580</td>\n",
       "    </tr>\n",
       "  </tbody>\n",
       "</table>\n",
       "</div>"
      ],
      "text/plain": [
       "   userId  movieId  rating   timestamp\n",
       "0       1        2     3.5  1112486027\n",
       "1       1       29     3.5  1112484676\n",
       "2       1       32     3.5  1112484819\n",
       "3       1       47     3.5  1112484727\n",
       "4       1       50     3.5  1112484580"
      ]
     },
     "execution_count": 77,
     "metadata": {},
     "output_type": "execute_result"
    }
   ],
   "source": [
    "r_df = pd.read_csv(\"/Users/tural/Datasets/ml-20m/ratings.csv\")\n",
    "r_df.head()"
   ]
  },
  {
   "cell_type": "code",
   "execution_count": 91,
   "metadata": {},
   "outputs": [
    {
     "data": {
      "text/plain": [
       "array([130046,  89196, 105781,   2785,  96034, 102295,  55451,  95713,\n",
       "        80579,  60065])"
      ]
     },
     "execution_count": 91,
     "metadata": {},
     "output_type": "execute_result"
    }
   ],
   "source": [
    "# посчитаем количество рейтингов на пользователя\n",
    "r_per_user = r_df.userId.value_counts()\n",
    "# оставим только 10 пользователей с 50 рейтингами\n",
    "good_uids = np.random.choice(r_per_user[r_per_user == 50].index, size=10, replace=False)\n",
    "good_uids"
   ]
  },
  {
   "cell_type": "code",
   "execution_count": 92,
   "metadata": {},
   "outputs": [
    {
     "data": {
      "text/plain": [
       "(500, 4)"
      ]
     },
     "execution_count": 92,
     "metadata": {},
     "output_type": "execute_result"
    }
   ],
   "source": [
    "r_df = r_df[r_df.userId.isin(good_uids)]\n",
    "r_df.shape"
   ]
  },
  {
   "cell_type": "markdown",
   "metadata": {},
   "source": [
    "## Посчитаем TFIDF"
   ]
  },
  {
   "cell_type": "code",
   "execution_count": 93,
   "metadata": {},
   "outputs": [
    {
     "data": {
      "text/plain": [
       "325"
      ]
     },
     "execution_count": 93,
     "metadata": {},
     "output_type": "execute_result"
    }
   ],
   "source": [
    "r_df.movieId.unique().size"
   ]
  },
  {
   "cell_type": "code",
   "execution_count": 94,
   "metadata": {
    "collapsed": true
   },
   "outputs": [],
   "source": [
    "import time"
   ]
  },
  {
   "cell_type": "code",
   "execution_count": 95,
   "metadata": {},
   "outputs": [
    {
     "name": "stdout",
     "output_type": "stream",
     "text": [
      "Обработано 0 из 325 фильмов\n",
      "Обработано 100 из 325 фильмов\n",
      "Обработано 200 из 325 фильмов\n",
      "Обработано 300 из 325 фильмов\n"
     ]
    }
   ],
   "source": [
    "movies = []\n",
    "for cnt, movie_id in enumerate(r_df.movieId.unique()):\n",
    "    if cnt % 100 == 0:\n",
    "        print(\"Обработано %s из %s фильмов\" % (cnt, r_df.movieId.unique().size))\n",
    "    \n",
    "    imdb_id = int(links_df.loc[movie_id].imdbId)\n",
    "    \n",
    "    data = get_movie_data(imdb_id)\n",
    "    if len(data['movie_results']) > 0:\n",
    "        data = data['movie_results'][0]\n",
    "    elif len(data['tv_results']) > 0:\n",
    "        data = data['tv_results'][0]\n",
    "    else:\n",
    "        continue\n",
    "        \n",
    "    movies.append({\n",
    "        \"movie_id\": movie_id, \n",
    "        \"overview\": data[\"overview\"],\n",
    "        \"title\": data[\"title\"]\n",
    "    })\n",
    "    \n",
    "    #40 requests every 10 second\n",
    "    time.sleep(10 / 40)"
   ]
  },
  {
   "cell_type": "code",
   "execution_count": 100,
   "metadata": {},
   "outputs": [
    {
     "name": "stdout",
     "output_type": "stream",
     "text": [
      "324\n"
     ]
    },
    {
     "data": {
      "text/plain": [
       "[{'movie_id': 111,\n",
       "  'overview': 'A mentally unstable Vietnam War veteran works as a night-time taxi driver in New York City where the perceived decadence and sleaze feeds his urge for violent action, attempting to save a preadolescent prostitute in the process.',\n",
       "  'title': 'Taxi Driver'},\n",
       " {'movie_id': 296,\n",
       "  'overview': \"A burger-loving hit man, his philosophical partner, a drug-addled gangster's moll and a washed-up boxer converge in this sprawling, comedic crime caper. Their adventures unfurl in three stories that ingeniously trip back and forth in time.\",\n",
       "  'title': 'Pulp Fiction'}]"
      ]
     },
     "execution_count": 100,
     "metadata": {},
     "output_type": "execute_result"
    }
   ],
   "source": [
    "print(len(movies))\n",
    "movies[:2]"
   ]
  },
  {
   "cell_type": "code",
   "execution_count": 102,
   "metadata": {},
   "outputs": [],
   "source": [
    "texts = [m[\"overview\"] for m in movies]"
   ]
  },
  {
   "cell_type": "code",
   "execution_count": 105,
   "metadata": {},
   "outputs": [
    {
     "data": {
      "text/plain": [
       "TfidfVectorizer(analyzer='word', binary=False, decode_error='strict',\n",
       "        dtype=<class 'numpy.int64'>, encoding='utf-8', input='content',\n",
       "        lowercase=True, max_df=1.0, max_features=None, min_df=1,\n",
       "        ngram_range=(1, 1), norm='l2', preprocessor=None, smooth_idf=True,\n",
       "        stop_words='english', strip_accents=None, sublinear_tf=False,\n",
       "        token_pattern='(?u)\\\\b\\\\w\\\\w+\\\\b', tokenizer=None, use_idf=True,\n",
       "        vocabulary=None)"
      ]
     },
     "execution_count": 105,
     "metadata": {},
     "output_type": "execute_result"
    }
   ],
   "source": [
    "from sklearn.feature_extraction.text import TfidfVectorizer\n",
    "tfidf = TfidfVectorizer(stop_words='english')\n",
    "tfidf.fit(texts)"
   ]
  },
  {
   "cell_type": "markdown",
   "metadata": {},
   "source": [
    "## Создадим профиль объекта"
   ]
  },
  {
   "cell_type": "code",
   "execution_count": 114,
   "metadata": {},
   "outputs": [
    {
     "data": {
      "text/plain": [
       "{'movie_id': 111,\n",
       " 'overview': 'A mentally unstable Vietnam War veteran works as a night-time taxi driver in New York City where the perceived decadence and sleaze feeds his urge for violent action, attempting to save a preadolescent prostitute in the process.',\n",
       " 'title': 'Taxi Driver'}"
      ]
     },
     "execution_count": 114,
     "metadata": {},
     "output_type": "execute_result"
    }
   ],
   "source": [
    "target_m = movies[0]\n",
    "target_m"
   ]
  },
  {
   "cell_type": "code",
   "execution_count": 115,
   "metadata": {},
   "outputs": [
    {
     "data": {
      "text/plain": [
       "<1x4612 sparse matrix of type '<class 'numpy.float64'>'\n",
       "\twith 25 stored elements in Compressed Sparse Row format>"
      ]
     },
     "execution_count": 115,
     "metadata": {},
     "output_type": "execute_result"
    }
   ],
   "source": [
    "item_profile = tfidf.transform([target_m[\"overview\"]])\n",
    "item_profile"
   ]
  },
  {
   "cell_type": "code",
   "execution_count": 116,
   "metadata": {},
   "outputs": [],
   "source": [
    "ftr_id_to_term = {ftr_id: term for term, ftr_id in tfidf.vocabulary_.items()}"
   ]
  },
  {
   "cell_type": "code",
   "execution_count": 119,
   "metadata": {},
   "outputs": [
    {
     "name": "stdout",
     "output_type": "stream",
     "text": [
      "vietnam : 0.229581083492\n",
      "urge : 0.229581083492\n",
      "taxi : 0.229581083492\n",
      "sleaze : 0.229581083492\n",
      "preadolescent : 0.229581083492\n",
      "perceived : 0.229581083492\n",
      "mentally : 0.229581083492\n",
      "feeds : 0.229581083492\n",
      "driver : 0.229581083492\n",
      "decadence : 0.229581083492\n",
      "unstable : 0.214297543826\n",
      "process : 0.214297543826\n",
      "attempting : 0.214297543826\n",
      "veteran : 0.195042561023\n",
      "prostitute : 0.195042561023\n",
      "works : 0.188170160193\n",
      "night : 0.188170160193\n",
      "violent : 0.182359628084\n",
      "action : 0.172886620526\n",
      "york : 0.162042776561\n",
      "city : 0.153631637724\n",
      "save : 0.148913757389\n",
      "war : 0.140948704785\n",
      "time : 0.139195186443\n",
      "new : 0.117614735702\n"
     ]
    }
   ],
   "source": [
    "for ftr_id, score in sorted(zip(item_profile.indices, item_profile.data), key=lambda x: x[1], reverse=True):\n",
    "    print(ftr_id_to_term[ftr_id], \":\", score)"
   ]
  },
  {
   "cell_type": "code",
   "execution_count": null,
   "metadata": {
    "collapsed": true
   },
   "outputs": [],
   "source": []
  }
 ],
 "metadata": {
  "kernelspec": {
   "display_name": "Python 3",
   "language": "python",
   "name": "python3"
  },
  "language_info": {
   "codemirror_mode": {
    "name": "ipython",
    "version": 3
   },
   "file_extension": ".py",
   "mimetype": "text/x-python",
   "name": "python",
   "nbconvert_exporter": "python",
   "pygments_lexer": "ipython3",
   "version": "3.6.0"
  }
 },
 "nbformat": 4,
 "nbformat_minor": 2
}
