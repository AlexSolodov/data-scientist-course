{
 "cells": [
  {
   "cell_type": "markdown",
   "metadata": {},
   "source": [
    "# Нормализация рейтингов"
   ]
  },
  {
   "cell_type": "code",
   "execution_count": 1,
   "metadata": {
    "collapsed": true
   },
   "outputs": [],
   "source": [
    "import pandas as pd\n",
    "import numpy as np\n",
    "import matplotlib.pyplot as plt\n",
    "%matplotlib inline"
   ]
  },
  {
   "cell_type": "code",
   "execution_count": 2,
   "metadata": {},
   "outputs": [
    {
     "data": {
      "text/html": [
       "<div>\n",
       "<style>\n",
       "    .dataframe thead tr:only-child th {\n",
       "        text-align: right;\n",
       "    }\n",
       "\n",
       "    .dataframe thead th {\n",
       "        text-align: left;\n",
       "    }\n",
       "\n",
       "    .dataframe tbody tr th {\n",
       "        vertical-align: top;\n",
       "    }\n",
       "</style>\n",
       "<table border=\"1\" class=\"dataframe\">\n",
       "  <thead>\n",
       "    <tr style=\"text-align: right;\">\n",
       "      <th></th>\n",
       "      <th>userId</th>\n",
       "      <th>movieId</th>\n",
       "      <th>rating</th>\n",
       "      <th>timestamp</th>\n",
       "    </tr>\n",
       "  </thead>\n",
       "  <tbody>\n",
       "    <tr>\n",
       "      <th>0</th>\n",
       "      <td>1</td>\n",
       "      <td>2</td>\n",
       "      <td>3.5</td>\n",
       "      <td>1112486027</td>\n",
       "    </tr>\n",
       "    <tr>\n",
       "      <th>1</th>\n",
       "      <td>1</td>\n",
       "      <td>29</td>\n",
       "      <td>3.5</td>\n",
       "      <td>1112484676</td>\n",
       "    </tr>\n",
       "    <tr>\n",
       "      <th>2</th>\n",
       "      <td>1</td>\n",
       "      <td>32</td>\n",
       "      <td>3.5</td>\n",
       "      <td>1112484819</td>\n",
       "    </tr>\n",
       "    <tr>\n",
       "      <th>3</th>\n",
       "      <td>1</td>\n",
       "      <td>47</td>\n",
       "      <td>3.5</td>\n",
       "      <td>1112484727</td>\n",
       "    </tr>\n",
       "    <tr>\n",
       "      <th>4</th>\n",
       "      <td>1</td>\n",
       "      <td>50</td>\n",
       "      <td>3.5</td>\n",
       "      <td>1112484580</td>\n",
       "    </tr>\n",
       "  </tbody>\n",
       "</table>\n",
       "</div>"
      ],
      "text/plain": [
       "   userId  movieId  rating   timestamp\n",
       "0       1        2     3.5  1112486027\n",
       "1       1       29     3.5  1112484676\n",
       "2       1       32     3.5  1112484819\n",
       "3       1       47     3.5  1112484727\n",
       "4       1       50     3.5  1112484580"
      ]
     },
     "execution_count": 2,
     "metadata": {},
     "output_type": "execute_result"
    }
   ],
   "source": [
    "r_df = pd.read_csv(\"/Users/tural/Datasets/ml-20m/ratings.csv\")\n",
    "r_df.head()"
   ]
  },
  {
   "cell_type": "markdown",
   "metadata": {},
   "source": [
    "# Минимальное количество рейтингов для пользователя и объекта"
   ]
  },
  {
   "cell_type": "code",
   "execution_count": 7,
   "metadata": {
    "collapsed": true
   },
   "outputs": [],
   "source": [
    "def clean_df(df, min_rating_per_uid, min_rating_per_iid):\n",
    "    \"\"\"Функция удаляет из df строки, соответствующие пользователям и объектам, \n",
    "    у которых меньше min_review_per_uid и min_review_per_iid отзывов соответственно\n",
    "    \"\"\"\n",
    "    _df = df.copy()\n",
    "    while True:\n",
    "        rating_per_uid = _df.groupby(\"userId\").rating.count()\n",
    "        bad_uids = rating_per_uid[rating_per_uid < min_rating_per_uid].index\n",
    "    \n",
    "        rating_per_iid = _df.groupby(\"movieId\").rating.count()\n",
    "        bad_iids = rating_per_iid[rating_per_iid < min_rating_per_iid].index\n",
    "        \n",
    "        if bad_uids.shape[0] > 0 or bad_iids.shape[0] > 0:\n",
    "            _df = _df[(~_df.userId.isin(bad_uids)) & (~_df.movieId.isin(bad_iids))]\n",
    "        else:\n",
    "            break\n",
    "    return _df"
   ]
  },
  {
   "cell_type": "code",
   "execution_count": 9,
   "metadata": {},
   "outputs": [
    {
     "name": "stdout",
     "output_type": "stream",
     "text": [
      "(19984024, 4)\n",
      "(19964833, 4)\n"
     ]
    }
   ],
   "source": [
    "print(r_df.shape)\n",
    "r_df = clean_df(r_df, 10, 10)\n",
    "print(r_df.shape)"
   ]
  },
  {
   "cell_type": "markdown",
   "metadata": {},
   "source": [
    "## Построение матрицы"
   ]
  },
  {
   "cell_type": "code",
   "execution_count": 10,
   "metadata": {
    "collapsed": true
   },
   "outputs": [],
   "source": [
    "from scipy.sparse import csr_matrix\n",
    "\n",
    "def load_data(df):\n",
    "    rows = []\n",
    "    cols = []\n",
    "    data = []\n",
    "    \n",
    "    uid_to_row = {}\n",
    "    iid_to_col = {}\n",
    "    \n",
    "    for t in df.itertuples():\n",
    "        row_id = uid_to_row.setdefault(t.userId, len(uid_to_row))\n",
    "        col_id = iid_to_col.setdefault(t.movieId, len(iid_to_col))\n",
    "        rating = t.rating\n",
    "        \n",
    "        rows.append(row_id)\n",
    "        cols.append(col_id)\n",
    "        data.append(rating)\n",
    "        \n",
    "    ui_m = csr_matrix((data, (rows, cols)))\n",
    "    return ui_m, uid_to_row, iid_to_col"
   ]
  },
  {
   "cell_type": "code",
   "execution_count": 11,
   "metadata": {
    "collapsed": true
   },
   "outputs": [],
   "source": [
    "ui_m, uid_to_row, iid_to_col = load_data(r_df)"
   ]
  },
  {
   "cell_type": "code",
   "execution_count": 12,
   "metadata": {},
   "outputs": [
    {
     "name": "stdout",
     "output_type": "stream",
     "text": [
      "Density 0.009329991891886498\n",
      "Max rating 5.0\n",
      "Min rating 0.5\n",
      "Shape (138493, 15451)\n"
     ]
    }
   ],
   "source": [
    "print(\"Density\", ui_m.nnz / (ui_m.shape[0] * ui_m.shape[1]))\n",
    "print(\"Max rating\", ui_m.data.max())\n",
    "print(\"Min rating\", ui_m.data.min())\n",
    "print(\"Shape\", ui_m.shape)"
   ]
  },
  {
   "cell_type": "markdown",
   "metadata": {},
   "source": [
    "## Mean-centering (User-based CF)"
   ]
  },
  {
   "cell_type": "markdown",
   "metadata": {},
   "source": [
    "$h(r_{ui}) = r_{ui} - \\bar{r}_u$"
   ]
  },
  {
   "cell_type": "code",
   "execution_count": 16,
   "metadata": {
    "collapsed": true
   },
   "outputs": [],
   "source": [
    "from sklearn.preprocessing import binarize"
   ]
  },
  {
   "cell_type": "code",
   "execution_count": 17,
   "metadata": {},
   "outputs": [
    {
     "data": {
      "text/plain": [
       "matrix([[ 3.74285714],\n",
       "        [ 4.        ],\n",
       "        [ 4.12299465],\n",
       "        ..., \n",
       "        [ 2.68181818],\n",
       "        [ 4.09756098],\n",
       "        [ 4.17292225]])"
      ]
     },
     "execution_count": 17,
     "metadata": {},
     "output_type": "execute_result"
    }
   ],
   "source": [
    "# мы хотим увидеть средний среди существующих рейтингов\n",
    "user_avg_rating = ui_m.sum(axis=1) / binarize(ui_m).sum(axis=1)\n",
    "user_avg_rating"
   ]
  },
  {
   "cell_type": "code",
   "execution_count": 18,
   "metadata": {
    "collapsed": true
   },
   "outputs": [],
   "source": [
    "n_ui_m = ui_m - binarize(ui_m).multiply(user_avg_rating)"
   ]
  },
  {
   "cell_type": "code",
   "execution_count": 20,
   "metadata": {},
   "outputs": [
    {
     "name": "stdout",
     "output_type": "stream",
     "text": [
      "Density 0.009310822839111887\n",
      "Max rating 4.28571428571\n",
      "Min rating -4.3932238193\n",
      "Shape (138493, 15451)\n"
     ]
    }
   ],
   "source": [
    "print(\"Density\", n_ui_m.nnz / (n_ui_m.shape[0] * n_ui_m.shape[1]))\n",
    "print(\"Max rating\", n_ui_m.data.max())\n",
    "print(\"Min rating\", n_ui_m.data.min())\n",
    "print(\"Shape\", n_ui_m.shape)"
   ]
  },
  {
   "cell_type": "code",
   "execution_count": 21,
   "metadata": {},
   "outputs": [
    {
     "data": {
      "text/plain": [
       "array([ 3.5,  3.5,  3.5,  3.5,  3.5,  3.5,  4. ,  4. ,  4. ,  4. ,  4. ,\n",
       "        4. ,  4. ,  3.5,  3.5,  4. ,  3.5,  3.5,  3. ,  3.5,  3.5,  3.5,\n",
       "        4. ,  4. ,  3.5,  3.5,  4. ,  4. ,  3.5,  3.5,  4.5,  4.5,  4. ,\n",
       "        3. ,  3.5,  4. ,  4. ,  3.5,  4. ,  3.5,  4. ,  3. ,  3.5,  4. ,\n",
       "        4. ,  4. ,  3.5,  3.5,  4. ,  4. ,  3.5,  3. ,  4. ,  4. ,  3.5,\n",
       "        3.5,  4. ,  3. ,  4. ,  4. ,  3. ,  3.5,  3.5,  3.5,  3.5,  4. ,\n",
       "        3.5,  3.5,  4. ,  4. ,  4. ,  4. ,  4. ,  4. ,  4. ,  4. ,  4. ,\n",
       "        3.5,  3.5,  4. ,  4. ,  4. ,  4. ,  3.5,  3.5,  3.5,  3.5,  3.5,\n",
       "        3.5,  3. ,  4. ,  3.5,  4. ,  3.5,  4. ,  3.5,  4. ,  4. ,  3.5,\n",
       "        3. ,  3.5,  4. ,  4. ,  3.5,  3.5,  3.5,  4. ,  4. ,  4. ,  4. ,\n",
       "        3. ,  4. ,  3.5,  4. ,  4. ,  3.5,  4. ,  3. ,  3.5,  4. ,  3.5,\n",
       "        4. ,  4. ,  3.5,  4. ,  3.5,  4. ,  4. ,  3. ,  3.5,  3.5,  5. ,\n",
       "        4. ,  4. ,  3. ,  3.5,  4. ,  4. ,  3.5,  4. ,  4. ,  3.5,  5. ,\n",
       "        3.5,  4. ,  3.5,  4. ,  3.5,  4. ,  4. ,  3.5,  4. ,  3.5,  3.5,\n",
       "        3. ,  3.5,  3.5,  4. ,  5. ,  3.5,  3.5,  3.5,  4. ,  4. ,  3.5,\n",
       "        4. ,  3. ,  4. ,  4. ,  3.5,  5. ,  4.5,  3.5,  4. ,  4. ])"
      ]
     },
     "execution_count": 21,
     "metadata": {},
     "output_type": "execute_result"
    }
   ],
   "source": [
    "ui_m[0].data"
   ]
  },
  {
   "cell_type": "code",
   "execution_count": 22,
   "metadata": {},
   "outputs": [
    {
     "data": {
      "text/plain": [
       "array([-0.24285714, -0.24285714, -0.24285714, -0.24285714, -0.24285714,\n",
       "       -0.24285714,  0.25714286,  0.25714286,  0.25714286,  0.25714286,\n",
       "        0.25714286,  0.25714286,  0.25714286, -0.24285714, -0.24285714,\n",
       "        0.25714286, -0.24285714, -0.24285714, -0.74285714, -0.24285714,\n",
       "       -0.24285714, -0.24285714,  0.25714286,  0.25714286, -0.24285714,\n",
       "       -0.24285714,  0.25714286,  0.25714286, -0.24285714, -0.24285714,\n",
       "        0.75714286,  0.75714286,  0.25714286, -0.74285714, -0.24285714,\n",
       "        0.25714286,  0.25714286, -0.24285714,  0.25714286, -0.24285714,\n",
       "        0.25714286, -0.74285714, -0.24285714,  0.25714286,  0.25714286,\n",
       "        0.25714286, -0.24285714, -0.24285714,  0.25714286,  0.25714286,\n",
       "       -0.24285714, -0.74285714,  0.25714286,  0.25714286, -0.24285714,\n",
       "       -0.24285714,  0.25714286, -0.74285714,  0.25714286,  0.25714286,\n",
       "       -0.74285714, -0.24285714, -0.24285714, -0.24285714, -0.24285714,\n",
       "        0.25714286, -0.24285714, -0.24285714,  0.25714286,  0.25714286,\n",
       "        0.25714286,  0.25714286,  0.25714286,  0.25714286,  0.25714286,\n",
       "        0.25714286,  0.25714286, -0.24285714, -0.24285714,  0.25714286,\n",
       "        0.25714286,  0.25714286,  0.25714286, -0.24285714, -0.24285714,\n",
       "       -0.24285714, -0.24285714, -0.24285714, -0.24285714, -0.74285714,\n",
       "        0.25714286, -0.24285714,  0.25714286, -0.24285714,  0.25714286,\n",
       "       -0.24285714,  0.25714286,  0.25714286, -0.24285714, -0.74285714,\n",
       "       -0.24285714,  0.25714286,  0.25714286, -0.24285714, -0.24285714,\n",
       "       -0.24285714,  0.25714286,  0.25714286,  0.25714286,  0.25714286,\n",
       "       -0.74285714,  0.25714286, -0.24285714,  0.25714286,  0.25714286,\n",
       "       -0.24285714,  0.25714286, -0.74285714, -0.24285714,  0.25714286,\n",
       "       -0.24285714,  0.25714286,  0.25714286, -0.24285714,  0.25714286,\n",
       "       -0.24285714,  0.25714286,  0.25714286, -0.74285714, -0.24285714,\n",
       "       -0.24285714,  1.25714286,  0.25714286,  0.25714286, -0.74285714,\n",
       "       -0.24285714,  0.25714286,  0.25714286, -0.24285714,  0.25714286,\n",
       "        0.25714286, -0.24285714,  1.25714286, -0.24285714,  0.25714286,\n",
       "       -0.24285714,  0.25714286, -0.24285714,  0.25714286,  0.25714286,\n",
       "       -0.24285714,  0.25714286, -0.24285714, -0.24285714, -0.74285714,\n",
       "       -0.24285714, -0.24285714,  0.25714286,  1.25714286, -0.24285714,\n",
       "       -0.24285714, -0.24285714,  0.25714286,  0.25714286, -0.24285714,\n",
       "        0.25714286, -0.74285714,  0.25714286,  0.25714286, -0.24285714,\n",
       "        1.25714286,  0.75714286, -0.24285714,  0.25714286,  0.25714286])"
      ]
     },
     "execution_count": 22,
     "metadata": {},
     "output_type": "execute_result"
    }
   ],
   "source": [
    "n_ui_m[0].data"
   ]
  },
  {
   "cell_type": "markdown",
   "metadata": {},
   "source": [
    "## Z-score (Item-based CF)"
   ]
  },
  {
   "cell_type": "markdown",
   "metadata": {},
   "source": [
    "$\\sigma_i = \\sqrt{\\frac{\\sum_{u \\in U_i}(r_{ui} - \\bar{r}_i)^2}{|U_i|}}$"
   ]
  },
  {
   "cell_type": "code",
   "execution_count": 23,
   "metadata": {},
   "outputs": [
    {
     "data": {
      "text/plain": [
       "matrix([[ 3.2119768 ,  3.95223005,  3.89805469, ...,  3.55      ,\n",
       "          4.04545455,  3.25      ]])"
      ]
     },
     "execution_count": 23,
     "metadata": {},
     "output_type": "execute_result"
    }
   ],
   "source": [
    "item_avg_rating = ui_m.sum(axis=0) / binarize(ui_m).sum(axis=0)\n",
    "item_avg_rating"
   ]
  },
  {
   "cell_type": "code",
   "execution_count": 40,
   "metadata": {
    "collapsed": true
   },
   "outputs": [],
   "source": [
    "def get_sigmas(ui_m, item_avg_rating):\n",
    "    n_ui_m = ui_m - binarize(ui_m).multiply(item_avg_rating)  # r_{ui} - \\bar{r}_i\n",
    "    n_ui_m.data = n_ui_m.data ** 2  # (r_{ui} - \\bar{r}_i)^2\n",
    "    n_ui_m_sum = n_ui_m.sum(axis=0)  # \\sum(r_{ui} - \\bar{r}_i)^2\n",
    "    ratings_per_item = binarize(ui_m).sum(axis=0)  # |U_{i}|\n",
    "    sigmas = np.sqrt(n_ui_m_sum / ratings_per_item)\n",
    "    return sigmas"
   ]
  },
  {
   "cell_type": "markdown",
   "metadata": {},
   "source": [
    "$h(r_{ui}) = \\frac{r_{ui} - \\bar{r}_i}{\\sigma_i}$"
   ]
  },
  {
   "cell_type": "code",
   "execution_count": 41,
   "metadata": {},
   "outputs": [
    {
     "data": {
      "text/plain": [
       "matrix([[ 0.95112853,  0.97558563,  0.86712575, ...,  0.47169906,\n",
       "          0.44997704,  0.71589105]])"
      ]
     },
     "execution_count": 41,
     "metadata": {},
     "output_type": "execute_result"
    }
   ],
   "source": [
    "sigmas = get_sigmas(ui_m, item_avg_rating)\n",
    "sigmas"
   ]
  },
  {
   "cell_type": "code",
   "execution_count": 52,
   "metadata": {
    "collapsed": true
   },
   "outputs": [],
   "source": [
    "inv_sigmas = 1 / sigmas\n",
    "z_score = (ui_m - binarize(ui_m).multiply(item_avg_rating)).multiply(inv_sigmas)"
   ]
  },
  {
   "cell_type": "code",
   "execution_count": 53,
   "metadata": {},
   "outputs": [
    {
     "name": "stdout",
     "output_type": "stream",
     "text": [
      "Density 0.00932873900345702\n",
      "Max rating 5.33020596972\n",
      "Min rating -5.50088634047\n",
      "Shape (138493, 15451)\n"
     ]
    }
   ],
   "source": [
    "print(\"Density\", z_score.nnz / (z_score.shape[0] * z_score.shape[1]))\n",
    "print(\"Max rating\", z_score.data.max())\n",
    "print(\"Min rating\", z_score.data.min())\n",
    "print(\"Shape\", z_score.shape)"
   ]
  },
  {
   "cell_type": "markdown",
   "metadata": {},
   "source": [
    "## Проверка"
   ]
  },
  {
   "cell_type": "code",
   "execution_count": 54,
   "metadata": {},
   "outputs": [
    {
     "data": {
      "text/plain": [
       "array([ 3.5,  3. ,  3. , ...,  3. ,  3. ,  4. ])"
      ]
     },
     "execution_count": 54,
     "metadata": {},
     "output_type": "execute_result"
    }
   ],
   "source": [
    "i_ratings = ui_m.getcol(0).data\n",
    "i_ratings"
   ]
  },
  {
   "cell_type": "code",
   "execution_count": 55,
   "metadata": {},
   "outputs": [
    {
     "data": {
      "text/plain": [
       "3.2119768016904193"
      ]
     },
     "execution_count": 55,
     "metadata": {},
     "output_type": "execute_result"
    }
   ],
   "source": [
    "avg_rating = np.mean(i_ratings)\n",
    "avg_rating"
   ]
  },
  {
   "cell_type": "code",
   "execution_count": 56,
   "metadata": {},
   "outputs": [
    {
     "data": {
      "text/plain": [
       "0.95112852894804079"
      ]
     },
     "execution_count": 56,
     "metadata": {},
     "output_type": "execute_result"
    }
   ],
   "source": [
    "sigma = np.std(i_ratings)\n",
    "sigma"
   ]
  },
  {
   "cell_type": "code",
   "execution_count": 57,
   "metadata": {},
   "outputs": [
    {
     "data": {
      "text/plain": [
       "0.30282258342953677"
      ]
     },
     "execution_count": 57,
     "metadata": {},
     "output_type": "execute_result"
    }
   ],
   "source": [
    "(ui_m[0, 0] - avg_rating) / sigma"
   ]
  },
  {
   "cell_type": "code",
   "execution_count": 58,
   "metadata": {},
   "outputs": [
    {
     "data": {
      "text/plain": [
       "0.3028225834295224"
      ]
     },
     "execution_count": 58,
     "metadata": {},
     "output_type": "execute_result"
    }
   ],
   "source": [
    "z_score.tocsr()[0, 0]"
   ]
  },
  {
   "cell_type": "code",
   "execution_count": null,
   "metadata": {
    "collapsed": true
   },
   "outputs": [],
   "source": []
  }
 ],
 "metadata": {
  "kernelspec": {
   "display_name": "Python 3",
   "language": "python",
   "name": "python3"
  },
  "language_info": {
   "codemirror_mode": {
    "name": "ipython",
    "version": 3
   },
   "file_extension": ".py",
   "mimetype": "text/x-python",
   "name": "python",
   "nbconvert_exporter": "python",
   "pygments_lexer": "ipython3",
   "version": "3.6.0"
  }
 },
 "nbformat": 4,
 "nbformat_minor": 2
}
